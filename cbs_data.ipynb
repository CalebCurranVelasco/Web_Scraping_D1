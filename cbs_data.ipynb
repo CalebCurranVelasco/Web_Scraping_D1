{
 "cells": [
  {
   "cell_type": "code",
   "execution_count": 10,
   "id": "08a3d996",
   "metadata": {},
   "outputs": [
    {
     "name": "stderr",
     "output_type": "stream",
     "text": [
      "C:\\Users\\caleb\\AppData\\Local\\Temp\\ipykernel_8820\\2311994272.py:6: DeprecationWarning: executable_path has been deprecated, please pass in a Service object\n",
      "  driver = webdriver.Firefox(executable_path=r'C:\\WebDrivers\\geckodriver.exe', options=options)\n"
     ]
    },
    {
     "name": "stdout",
     "output_type": "stream",
     "text": [
      "['Albany Great Danes', 'Binghamton Bearcats', 'Bryant Bulldogs', 'Maine Black Bears', 'New Jersey Tech Highlanders', 'New Hamp. Wildcats', 'UMBC Retrievers', 'UMass Lowell River Hawks', 'Vermont Catamounts', 'Cincinnati Bearcats', 'East Carolina Pirates', 'Houston Cougars', 'Memphis Tigers', 'SMU Mustangs', 'South Florida Bulls', 'Temple Owls', 'Tulane Green Wave', 'Tulsa Golden Hurricane', 'UCF Knights', 'Wichita State Shockers', 'Boston College Eagles', 'Clemson Tigers', 'Duke Blue Devils', 'Florida State Seminoles', 'Georgia Tech Yellow Jackets', 'Louisville Cardinals', 'Miami (Fla.) Hurricanes', 'North Carolina Tar Heels', 'NC State Wolfpack', 'Notre Dame Fighting Irish', 'Pittsburgh Panthers', 'Syracuse Orange', 'Virginia Tech Hokies', 'Virginia Cavaliers', 'Wake Forest Demon Deacons', 'Austin Peay Governors', 'Bellarmine Knights', 'Cent. Arkansas Bears', 'Eastern Kentucky Colonels', 'Florida Gulf Coast Eagles', 'Jacksonville Dolphins', 'Jacksonville State Gamecocks', 'Kennesaw State Owls', 'Liberty Flames', 'Lipscomb Bisons', 'North Alabama Lions', 'North Florida Ospreys', 'Queens University Royals', 'Stetson Hatters', 'Davidson Wildcats', 'Dayton Flyers', 'Duquesne Dukes', 'Fordham Rams', 'George Mason Patriots', 'George Washington Colonials', 'La Salle Explorers', 'Loyola Chicago Ramblers', 'Massachusetts Minutemen', 'Rhode Island Rams', 'Richmond Spiders', \"Saint Joseph's Hawks\", 'Saint Louis Billikens', 'St. Bonaventure Bonnies', 'VCU Rams', 'Butler Bulldogs', 'Creighton Bluejays', 'DePaul Blue Demons', 'Georgetown Hoyas', 'Marquette Golden Eagles', 'Providence Friars', 'Seton Hall Pirates', \"St. John's Red Storm\", 'Connecticut Huskies', 'Villanova Wildcats', 'Xavier Musketeers', 'Eastern Washington Eagles', 'Idaho Vandals', 'Idaho State Bengals', 'Montana Grizzlies', 'Montana State Bobcats', 'Northern Arizona Lumberjacks', 'Northern Colorado Bears', 'Portland State Vikings', 'Sacramento State Hornets', 'Weber State Wildcats', 'Illinois Fighting Illini', 'Indiana Hoosiers', 'Iowa Hawkeyes', 'Maryland Terrapins', 'Michigan Wolverines', 'Michigan State Spartans', 'Minnesota Golden Gophers', 'Nebraska Cornhuskers', 'Northwestern Wildcats', 'Ohio State Buckeyes', 'Penn State Nittany Lions', 'Purdue Boilermakers', 'Rutgers Scarlet Knights', 'Wisconsin Badgers', 'Baylor Bears', 'Iowa State Cyclones', 'Kansas Jayhawks', 'Kansas State Wildcats', 'Oklahoma State Cowboys', 'Oklahoma Sooners', 'TCU Horned Frogs', 'Texas Longhorns', 'Texas Tech Red Raiders', 'West Virginia Mountaineers', 'Campbell Fighting Camels', 'Charleston Southern Buccaneers', 'Gardner-Webb Bulldogs', 'High Point Panthers', 'Longwood Lancers', 'Presbyterian Blue Hose', 'Radford Highlanders', 'South Carolina Upstate Spartans', 'UNC-Asheville Bulldogs', 'Winthrop Eagles', 'Cal State Fullerton Titans', 'Northridge Matadors', 'Cal Poly Mustangs', 'Cal State Bakersfield Roadrunners', 'Hawaii Warriors', 'Long Beach State Beach', 'UC Davis Aggies', 'UC Irvine Anteaters', 'California Riverside Highlanders', 'UC San Diego Tritons', 'Santa Barbara Gauchos', 'College of Charleston Cougars', \"Delaware Fightin' Blue Hens\", 'Drexel Dragons', 'Elon Phoenix', 'Hampton Pirates', 'Hofstra Pride', 'Monmouth Hawks', 'North Carolina A&T Aggies', 'Northeastern Huskies', 'Stony Brook Seawolves', 'Towson Tigers', 'UNC-Wilmington Seahawks', 'William & Mary Tribe', 'Charlotte 49ers', 'Florida Atlantic Owls', 'Florida International Panthers', 'Louisiana Tech Bulldogs', 'Middle Tenn. Blue Raiders', 'North Texas Mean Green', 'Rice Owls', 'UAB Blazers', 'Texas-El Paso Miners', 'Texas-San Antonio Roadrunners', 'Western Kentucky Hilltoppers', 'Cleveland State Vikings', 'Detroit Titans', 'Green Bay Phoenix', 'IUPUI Jaguars', 'Wisconsin-Milwaukee Panthers', 'Northern Kentucky Norse', 'Oakland Golden Grizzlies', 'PFW Mastodons', 'Robert Morris Colonials', 'Wright State Raiders', 'Youngstown State Penguins', 'Brown Bears', 'Columbia Lions', 'Cornell Big Red', 'Dartmouth Big Green', 'Harvard Crimson', 'Pennsylvania Quakers', 'Princeton Tigers', 'Yale Bulldogs', 'Canisius Golden Griffins', 'Fairfield Stags', 'Iona Gaels', 'Manhattan Jaspers', 'Marist Red Foxes', \"Mount St. Mary's Mountaineers\", 'Niagara Purple Eagles', 'Quinnipiac Bobcats', 'Rider Broncs', 'Siena Saints', \"St. Peter's Peacocks\", 'Coppin State Eagles', 'Delaware State Hornets', 'Howard Bison', 'Maryland-Eastern Shore Hawks', 'Morgan State Bears', 'North Carolina Central Eagles', 'Norfolk State Spartans', 'South Carolina State Bulldogs', 'Akron Zips', 'Ball State Cardinals', 'Bowling Green Falcons', 'Buffalo Bulls', 'Central Michigan Chippewas', 'Eastern Michigan Eagles', 'Kent State Golden Flashes', 'Miami (Ohio) RedHawks', 'Northern Illinois Huskies', 'Ohio Bobcats', 'Toledo Rockets', 'Western Michigan Broncos', 'Belmont Bruins', 'Bradley Braves', 'Drake Bulldogs', 'Evansville Aces', 'Illinois-Chicago Flames', 'Illinois State Redbirds', 'Indiana State Sycamores', 'Missouri State Bears', 'Murray State Racers', 'Northern Iowa Panthers', 'Southern Illinois Salukis', 'Valparaiso Beacons', 'Air Force Falcons', 'Boise State Broncos', 'Colorado State Rams', 'Fresno State Bulldogs', 'Nevada Wolf Pack', 'New Mexico Lobos', 'San Diego State Aztecs', 'San Jose State Spartans', 'UNLV Rebels', 'Utah State Aggies', 'Wyoming Cowboys', 'Eastern Illinois Panthers', 'Lindenwood Lions', 'Little Rock Trojans', 'Morehead State Eagles', 'SE Missouri State Redhawks', 'SIU-Edwardsville Cougars', 'Southern Indiana Screaming Eagles', 'Tennessee Tech Golden Eagles', 'Tennessee State Tigers', 'UT Martin Skyhawks', 'Central Connecticut State Blue Devils', 'Fairleigh Dickinson Knights', 'LIU Sharks', 'Merrimack Warriors', 'Sacred Heart Pioneers', 'St. Francis (N.Y.) Terriers', 'St. Francis (Pa.) Red Flash', 'Stonehill Skyhawks', 'Wagner Seahawks', 'Arizona Wildcats', 'Arizona State Sun Devils', 'California Golden Bears', 'Colorado Buffaloes', 'Oregon Ducks', 'Oregon State Beavers', 'Stanford Cardinal', 'UCLA Bruins', 'USC Trojans', 'Utah Utes', 'Washington Huskies', 'Washington State Cougars', 'American Eagles', 'Army West Point Black Knights', 'Boston University Terriers', 'Bucknell Bison', 'Colgate Raiders', 'Holy Cross Crusaders', 'Lafayette Leopards', 'Lehigh Mountain Hawks', 'Loyola-Maryland Greyhounds', 'Navy Midshipmen', 'Alabama Crimson Tide', 'Arkansas Razorbacks', 'Auburn Tigers', 'Florida Gators', 'Georgia Bulldogs', 'Kentucky Wildcats', 'LSU Tigers', 'Mississippi State Bulldogs', 'Missouri Tigers', 'Ole Miss Rebels', 'South Carolina Gamecocks', 'Tennessee Volunteers', 'Texas A&M Aggies', 'Vanderbilt Commodores', 'Chattanooga Mocs', 'E. Tennessee State Buccaneers', 'Furman Paladins', 'Mercer Bears', 'Samford Bulldogs', 'The Citadel Bulldogs', 'UNCG Spartans', 'VMI Keydets', 'Western Carolina Catamounts', 'Wofford Terriers', 'Houston Christian Huskies', 'Incarnate Word Cardinals', 'Lamar Cardinals', 'McNeese State Cowboys', 'New Orleans Privateers', 'Nicholls State Colonels', 'NW State Demons', 'Southeastern Louisiana Lions', 'Texas A&M-Corpus Christi Islanders', 'Texas A&M-Commerce Lions', 'Alabama A&M Bulldogs', 'Alabama State Hornets', 'Alcorn State Braves', 'Arkansas-Pine Bluff Golden Lions', 'Bethune-Cookman Wildcats', 'Florida A&M Rattlers', 'Grambling Tigers', 'Jackson State Tigers', 'Mississippi Valley State Delta Devils', 'Prairie View A&M Panthers', 'Southern Jaguars', 'Texas Southern Tigers', 'Denver Pioneers', 'North Dakota State Bison', 'Nebraska Omaha Mavericks', 'North Dakota Fighting Hawks', 'Oral Roberts Golden Eagles', 'South Dakota State Jackrabbits', 'South Dakota Coyotes', 'St. Thomas (MN) Tommies', 'UMKC Roos', 'Western Illinois Leathernecks', 'App. State Mountaineers', 'Arkansas State Red Wolves', 'Coastal Carolina Chanticleers', 'Georgia Southern Eagles', 'Georgia State Panthers', 'James Madison Dukes', 'Louisiana Ragin Cajuns', 'Marshall Thundering Herd', 'Old Dominion Monarchs', 'Southern Miss Golden Eagles', 'South Alabama Jaguars', 'Texas State-San Marcos Bobcats', 'Troy Trojans', 'Louisiana-Monroe Warhawks', 'Abilene Christian Wildcats', 'California Baptist Lancers', 'Grand Canyon Antelopes', 'New Mexico St. Aggies', 'Stephen F. Austin Lumberjacks', 'Sam Houston Bearkats', 'Seattle Redhawks', 'Southern Utah Thunderbirds', 'Tarleton State Texans', 'UT Arlington Mavericks', 'UTRGV Vaqueros', 'Utah Tech Trailblazers', 'Utah Valley Wolverines', 'Brigham Young Cougars', 'Gonzaga Bulldogs', 'Loyola Marymount Lions', 'Pacific Tigers', 'Pepperdine Waves', 'Portland Pilots', \"Saint Mary's Gaels\", 'San Diego Toreros', 'San Francisco Dons', 'Santa Clara Broncos']\n"
     ]
    }
   ],
   "source": [
    "import requests\n",
    "from bs4 import BeautifulSoup\n",
    "\n",
    "options = Options()\n",
    "options.binary_location = r'C:\\Program Files\\Mozilla Firefox\\firefox.exe'\n",
    "driver = webdriver.Firefox(executable_path=r'C:\\WebDrivers\\geckodriver.exe', options=options)\n",
    "url = f\"https://www.cbssports.com/college-basketball/teams/\"\n",
    "driver.get(url)\n",
    "\n",
    "soup = BeautifulSoup(response.text, \"html.parser\")\n",
    "teams = [team.text.strip() for team in soup.select(\".TeamName a\")]\n",
    "print(teams)\n",
    "\n"
   ]
  },
  {
   "cell_type": "code",
   "execution_count": null,
   "id": "dba1e29b",
   "metadata": {},
   "outputs": [],
   "source": []
  }
 ],
 "metadata": {
  "kernelspec": {
   "display_name": "venv_anaprac",
   "language": "python",
   "name": "venv_anaprac"
  },
  "language_info": {
   "codemirror_mode": {
    "name": "ipython",
    "version": 3
   },
   "file_extension": ".py",
   "mimetype": "text/x-python",
   "name": "python",
   "nbconvert_exporter": "python",
   "pygments_lexer": "ipython3",
   "version": "3.9.13"
  }
 },
 "nbformat": 4,
 "nbformat_minor": 5
}
